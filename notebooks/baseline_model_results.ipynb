{
 "cells": [
  {
   "cell_type": "code",
   "execution_count": null,
   "id": "2ac3ec55-18d6-4b66-b3ef-40a26a62ba2c",
   "metadata": {},
   "outputs": [],
   "source": [
    "import os\n",
    "import glob\n",
    "import numpy as np\n",
    "import pandas as pd\n",
    "\n",
    "import matplotlib.pyplot as plt\n",
    "import seaborn as sns"
   ]
  },
  {
   "cell_type": "code",
   "execution_count": null,
   "id": "e3bbb254-3f8b-4659-9844-b4e19113eef9",
   "metadata": {},
   "outputs": [],
   "source": [
    "def combine_csv_files(directory):\n",
    "    csv_files = glob.glob(os.path.join(directory, \"*.csv\"))\n",
    "    print(f\"Found {len(csv_files)} CSV files in {directory}\")\n",
    "\n",
    "    df_list = []\n",
    "    for file in csv_files:\n",
    "        df = pd.read_csv(file)\n",
    "        df_list.append(df)\n",
    "    \n",
    "    combined_df = pd.concat(df_list, ignore_index=True)\n",
    "    return combined_df, df_list"
   ]
  },
  {
   "cell_type": "code",
   "execution_count": null,
   "id": "e81b3d7b-3b04-4e1f-a3d6-39229a72b584",
   "metadata": {},
   "outputs": [],
   "source": [
    "scatter_color = '#1f77b4'\n",
    "highlight_color = '#0D47A1'\n",
    "median_color = '#E53935'\n",
    "refline_color = '#212121'"
   ]
  },
  {
   "cell_type": "markdown",
   "id": "b52c48f7-57d1-49d9-a27a-e5dcf68d85f8",
   "metadata": {},
   "source": [
    "# Power Prediction"
   ]
  },
  {
   "cell_type": "code",
   "execution_count": null,
   "id": "2a37ce20-9e94-4df4-b65e-20d1087b3df5",
   "metadata": {},
   "outputs": [],
   "source": [
    "csv_directory = \"../data/baseline/power/\"\n",
    "\n",
    "combined_df, df_list = combine_csv_files(csv_directory)\n",
    "print(\"Combined DataFrame shape:\", combined_df.shape)\n",
    "\n",
    "combined_df.to_csv(\"../data/baseline_power_results.csv\", index=False)\n",
    "print(\"Saved combined DataFrame to '../data/baseline_power_results.csv'\")"
   ]
  },
  {
   "cell_type": "code",
   "execution_count": null,
   "id": "b84b77c6-dfc2-4b05-869c-9670f60f4f13",
   "metadata": {},
   "outputs": [],
   "source": [
    "num_bins = 500\n",
    "combined_df['power_bin'] = pd.qcut(combined_df['avg_power_per_node'], q=num_bins)\n",
    "\n",
    "grouped = combined_df.groupby('power_bin')['predicted_power']\n",
    "stats = grouped.agg(\n",
    "    median='median'\n",
    ").reset_index()\n",
    "\n",
    "stats['bin_center'] = stats['power_bin'].apply(lambda interval: (interval.left + interval.right) / 2)\n",
    "\n",
    "fig, ax = plt.subplots(1, 1, figsize=(12, 10), dpi=300)\n",
    "\n",
    "ax.scatter(combined_df.avg_power_per_node, combined_df.predicted_power, s=1, alpha=0.1, c=scatter_color)\n",
    "ax.scatter(combined_df.avg_power_per_node[0], combined_df.predicted_power[0], s=10, alpha=1, label='Individual Jobs', c=scatter_color)\n",
    "\n",
    "ax.plot(stats['bin_center'], stats['median'], color=median_color, lw=5, label='Median Prediction', alpha=0.8)\n",
    "ax.plot(stats['bin_center'], stats['bin_center'], linestyle='--', color=refline_color, lw=3, label='Predicted = Actual')\n",
    "\n",
    "ax.set_ylabel(\"Predicted Power (W)\", fontsize=16)\n",
    "ax.set_xlabel(\"Actual Power (W)\", fontsize=16)\n",
    "ax.grid(True)\n",
    "ax.legend(loc='lower right', fontsize=16)\n",
    "\n",
    "ax.set_xlim([200, 800])\n",
    "ax.set_ylim([200, 800])\n",
    "\n",
    "plt.tight_layout()\n",
    "# plt.savefig('../figures/semantic_search_power.png', dpi=300)\n",
    "plt.show()"
   ]
  },
  {
   "cell_type": "markdown",
   "id": "39e38395-78db-45b1-bce1-b237bde58704",
   "metadata": {},
   "source": [
    "# Runtime Prediction"
   ]
  },
  {
   "cell_type": "code",
   "execution_count": null,
   "id": "334cebe0-91dc-4908-9980-420b6817bdfe",
   "metadata": {},
   "outputs": [],
   "source": [
    "csv_directory = \"../data/baseline/runtime/\"\n",
    "\n",
    "combined_df, df_list = combine_csv_files(csv_directory)\n",
    "print(\"Combined DataFrame shape:\", combined_df.shape)\n",
    "\n",
    "combined_df.to_csv(\"../data/baseline_runtime_results.csv\", index=False)\n",
    "print(\"Saved combined DataFrame to '../data/baseline_runtime_results.csv'\")"
   ]
  },
  {
   "cell_type": "code",
   "execution_count": null,
   "id": "72749d65-48a8-4dfb-b60c-97f690036e31",
   "metadata": {},
   "outputs": [],
   "source": [
    "num_bins = 100\n",
    "combined_df['runtime_bin'] = pd.qcut(combined_df['wallclock_used_sec'] / 3600, q=num_bins, duplicates='drop')\n",
    "\n",
    "combined_df['predicted_runtime_hours'] = combined_df['predicted_runtime'] / 3600\n",
    "\n",
    "grouped = combined_df.groupby('runtime_bin')['predicted_runtime_hours']\n",
    "stats = grouped.agg(\n",
    "    median='median'\n",
    ").reset_index()\n",
    "\n",
    "stats['bin_center'] = stats['runtime_bin'].apply(lambda interval: (interval.left + interval.right) / 2)\n",
    "\n",
    "fig, ax = plt.subplots(1, 1, figsize=(12, 10), dpi=300)\n",
    "\n",
    "ax.scatter(combined_df.wallclock_used_sec / 3600, combined_df.predicted_runtime_hours, color=scatter_color, s=1, alpha=.1)\n",
    "ax.scatter(combined_df.wallclock_used_sec[0] / 3600, combined_df.predicted_runtime_hours[0], color=scatter_color, s=10, label='Individual Jobs')\n",
    "\n",
    "ax.plot(stats['bin_center'], stats['median'], color=median_color, lw=5, label='Median Prediction', alpha=0.8)\n",
    "ax.plot(stats['bin_center'], stats['bin_center'], linestyle='--', color=refline_color, lw=3, label='Predicted = Actual')\n",
    "\n",
    "ax.set_ylabel(\"Predicted Runtime (hours)\", fontsize=16)\n",
    "ax.set_xlabel(\"Actual Runtime (hours)\", fontsize=16)\n",
    "ax.grid(True)\n",
    "ax.legend(loc='lower right', fontsize=16)\n",
    "\n",
    "# Set limits\n",
    "ax.set_xlim([10 / 3600, 200000 / 3600])\n",
    "ax.set_ylim([10 / 3600, 200000 / 3600])\n",
    "plt.xscale('log')\n",
    "ax.set_yscale('log')\n",
    "plt.tight_layout()\n",
    "# plt.savefig('../figures/semantic_search_runtime.png', dpi=300)\n",
    "plt.show()"
   ]
  }
 ],
 "metadata": {
  "kernelspec": {
   "display_name": "Python 3 (ipykernel)",
   "language": "python",
   "name": "python3"
  },
  "language_info": {
   "codemirror_mode": {
    "name": "ipython",
    "version": 3
   },
   "file_extension": ".py",
   "mimetype": "text/x-python",
   "name": "python",
   "nbconvert_exporter": "python",
   "pygments_lexer": "ipython3",
   "version": "3.12.2"
  }
 },
 "nbformat": 4,
 "nbformat_minor": 5
}
